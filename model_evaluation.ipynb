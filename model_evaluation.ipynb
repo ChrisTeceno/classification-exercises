{
 "cells": [
  {
   "cell_type": "code",
   "execution_count": 2,
   "metadata": {},
   "outputs": [],
   "source": [
    "import pandas as pd"
   ]
  },
  {
   "cell_type": "markdown",
   "metadata": {},
   "source": [
    "**Exercises**\n",
    "*1.* Create a new file named model_evaluation.py or model_evaluation.ipynb for these exercises.\n"
   ]
  },
  {
   "cell_type": "markdown",
   "metadata": {},
   "source": [
    "*2.* Given the following confusion matrix, evaluate (by hand) the model's performance.\n",
    "\n",
    "\n",
    "|               | pred dog   | pred cat   |\n",
    "|:------------  |-----------:|-----------:|\n",
    "| actual dog    |         46 |         7  |\n",
    "| actual cat    |         13 |         34 |"
   ]
  },
  {
   "cell_type": "code",
   "execution_count": 3,
   "metadata": {},
   "outputs": [],
   "source": [
    "def model_performance(tp, tn, fp, fn):\n",
    "    return f'''\n",
    "    Accuracy = {(tp+tn)/(tp+tn+fp+fn):.3f}\n",
    "    Precision = {tp/(tp+fp):.3f}\n",
    "    Recall = {tp/(tp+fn):.3f}\n",
    "    '''"
   ]
  },
  {
   "cell_type": "code",
   "execution_count": 4,
   "metadata": {},
   "outputs": [
    {
     "name": "stdout",
     "output_type": "stream",
     "text": [
      "\n",
      "    Accuracy = 0.800\n",
      "    Precision = 0.868\n",
      "    Recall = 0.780\n",
      "    \n"
     ]
    }
   ],
   "source": [
    "# Evalute models based on predicting its a dog\n",
    "print(model_performance(46,34,7,13))"
   ]
  },
  {
   "cell_type": "code",
   "execution_count": 5,
   "metadata": {},
   "outputs": [
    {
     "name": "stdout",
     "output_type": "stream",
     "text": [
      "\n",
      "    Accuracy = 0.800\n",
      "    Precision = 0.723\n",
      "    Recall = 0.829\n",
      "    \n"
     ]
    }
   ],
   "source": [
    "# Evalute models based on predicting its a cat\n",
    "print(model_performance(34,46,13,7))"
   ]
  },
  {
   "cell_type": "code",
   "execution_count": 6,
   "metadata": {},
   "outputs": [
    {
     "name": "stdout",
     "output_type": "stream",
     "text": [
      "\n",
      "    Accuracy = 0.625\n",
      "    Precision = 0.750\n",
      "    Recall = 0.600\n",
      "    \n"
     ]
    }
   ],
   "source": [
    "#testing against curriculum example\n",
    "print(model_performance(3,2,1,2))"
   ]
  },
  {
   "cell_type": "markdown",
   "metadata": {},
   "source": [
    "a. In the context of this problem, what is a false positive?\n"
   ]
  },
  {
   "cell_type": "code",
   "execution_count": 7,
   "metadata": {},
   "outputs": [],
   "source": [
    "# cat predicted as dog"
   ]
  },
  {
   "cell_type": "markdown",
   "metadata": {},
   "source": [
    "b. 2In the context of this problem, what is a false negative?\n"
   ]
  },
  {
   "cell_type": "code",
   "execution_count": 8,
   "metadata": {},
   "outputs": [],
   "source": [
    "# dog predicted as cat"
   ]
  },
  {
   "cell_type": "markdown",
   "metadata": {},
   "source": [
    "c. How would you describe this model?\n"
   ]
  },
  {
   "cell_type": "code",
   "execution_count": 9,
   "metadata": {},
   "outputs": [],
   "source": [
    "# Classification model slightly better at predicting dogs over cats"
   ]
  },
  {
   "cell_type": "markdown",
   "metadata": {},
   "source": [
    "*3.* You are working as a datascientist working for Codeup Cody Creator (C3 for short), a rubber-duck manufacturing plant.\n",
    "\n",
    "Unfortunately, some of the rubber ducks that are produced will have defects. Your team has built several models that try to predict those defects, and the data from their predictions can be found here.\n",
    "\n",
    "Use the predictions dataset and pandas to help answer the following questions:\n",
    "\n"
   ]
  },
  {
   "cell_type": "code",
   "execution_count": 10,
   "metadata": {},
   "outputs": [
    {
     "data": {
      "text/html": [
       "<div>\n",
       "<style scoped>\n",
       "    .dataframe tbody tr th:only-of-type {\n",
       "        vertical-align: middle;\n",
       "    }\n",
       "\n",
       "    .dataframe tbody tr th {\n",
       "        vertical-align: top;\n",
       "    }\n",
       "\n",
       "    .dataframe thead th {\n",
       "        text-align: right;\n",
       "    }\n",
       "</style>\n",
       "<table border=\"1\" class=\"dataframe\">\n",
       "  <thead>\n",
       "    <tr style=\"text-align: right;\">\n",
       "      <th></th>\n",
       "      <th>actual</th>\n",
       "      <th>model1</th>\n",
       "      <th>model2</th>\n",
       "      <th>model3</th>\n",
       "      <th>baseline</th>\n",
       "    </tr>\n",
       "  </thead>\n",
       "  <tbody>\n",
       "    <tr>\n",
       "      <th>0</th>\n",
       "      <td>No Defect</td>\n",
       "      <td>No Defect</td>\n",
       "      <td>Defect</td>\n",
       "      <td>No Defect</td>\n",
       "      <td>No Defect</td>\n",
       "    </tr>\n",
       "    <tr>\n",
       "      <th>1</th>\n",
       "      <td>No Defect</td>\n",
       "      <td>No Defect</td>\n",
       "      <td>Defect</td>\n",
       "      <td>Defect</td>\n",
       "      <td>No Defect</td>\n",
       "    </tr>\n",
       "    <tr>\n",
       "      <th>2</th>\n",
       "      <td>No Defect</td>\n",
       "      <td>No Defect</td>\n",
       "      <td>Defect</td>\n",
       "      <td>No Defect</td>\n",
       "      <td>No Defect</td>\n",
       "    </tr>\n",
       "    <tr>\n",
       "      <th>3</th>\n",
       "      <td>No Defect</td>\n",
       "      <td>Defect</td>\n",
       "      <td>Defect</td>\n",
       "      <td>Defect</td>\n",
       "      <td>No Defect</td>\n",
       "    </tr>\n",
       "    <tr>\n",
       "      <th>4</th>\n",
       "      <td>No Defect</td>\n",
       "      <td>No Defect</td>\n",
       "      <td>Defect</td>\n",
       "      <td>No Defect</td>\n",
       "      <td>No Defect</td>\n",
       "    </tr>\n",
       "  </tbody>\n",
       "</table>\n",
       "</div>"
      ],
      "text/plain": [
       "      actual     model1  model2     model3   baseline\n",
       "0  No Defect  No Defect  Defect  No Defect  No Defect\n",
       "1  No Defect  No Defect  Defect     Defect  No Defect\n",
       "2  No Defect  No Defect  Defect  No Defect  No Defect\n",
       "3  No Defect     Defect  Defect     Defect  No Defect\n",
       "4  No Defect  No Defect  Defect  No Defect  No Defect"
      ]
     },
     "execution_count": 10,
     "metadata": {},
     "output_type": "execute_result"
    }
   ],
   "source": [
    "#load the dataset\n",
    "defects = pd.read_csv('c3.csv')\n",
    "#set basline to the mode, No Defect\n",
    "defects['baseline']=defects.actual.mode().values[0]\n",
    "defects.head()"
   ]
  },
  {
   "cell_type": "code",
   "execution_count": 11,
   "metadata": {},
   "outputs": [],
   "source": [
    "def tp_or_not_tp(actual_df, model_df, positive = 'Defect', negative = 'No Defect'):\n",
    "    ''' take in a raw df actual value and model prediction and return true positive, false pos, etc''' \n",
    "    #dummy df for return\n",
    "    return_df = pd.DataFrame()\n",
    "    #loop all prections\n",
    "    for prediction in range(len(model_df)):\n",
    "        if actual_df[prediction] == positive:\n",
    "            # +, + : tp\n",
    "            if actual_df[prediction] == model_df[prediction]:\n",
    "                return_df = pd.concat([return_df,pd.DataFrame(['tp'])])\n",
    "            #+, - : fn\n",
    "            else:\n",
    "                return_df = pd.concat([return_df,pd.DataFrame(['fn'])])\n",
    "        # -, - : tn\n",
    "        elif actual_df[prediction] == model_df[prediction]:\n",
    "            return_df = pd.concat([return_df,pd.DataFrame(['tn'])])\n",
    "        # -, + : fp\n",
    "        else:\n",
    "            return_df = pd.concat([return_df,pd.DataFrame(['fp'])])\n",
    "    return return_df\n",
    "    "
   ]
  },
  {
   "cell_type": "code",
   "execution_count": 23,
   "metadata": {},
   "outputs": [
    {
     "data": {
      "text/html": [
       "<div>\n",
       "<style scoped>\n",
       "    .dataframe tbody tr th:only-of-type {\n",
       "        vertical-align: middle;\n",
       "    }\n",
       "\n",
       "    .dataframe tbody tr th {\n",
       "        vertical-align: top;\n",
       "    }\n",
       "\n",
       "    .dataframe thead th {\n",
       "        text-align: right;\n",
       "    }\n",
       "</style>\n",
       "<table border=\"1\" class=\"dataframe\">\n",
       "  <thead>\n",
       "    <tr style=\"text-align: right;\">\n",
       "      <th></th>\n",
       "      <th>model1</th>\n",
       "      <th>model2</th>\n",
       "      <th>model3</th>\n",
       "      <th>baseline</th>\n",
       "    </tr>\n",
       "  </thead>\n",
       "  <tbody>\n",
       "    <tr>\n",
       "      <th>0</th>\n",
       "      <td>tn</td>\n",
       "      <td>fp</td>\n",
       "      <td>tn</td>\n",
       "      <td>tn</td>\n",
       "    </tr>\n",
       "    <tr>\n",
       "      <th>1</th>\n",
       "      <td>tn</td>\n",
       "      <td>fp</td>\n",
       "      <td>fp</td>\n",
       "      <td>tn</td>\n",
       "    </tr>\n",
       "    <tr>\n",
       "      <th>2</th>\n",
       "      <td>tn</td>\n",
       "      <td>fp</td>\n",
       "      <td>tn</td>\n",
       "      <td>tn</td>\n",
       "    </tr>\n",
       "  </tbody>\n",
       "</table>\n",
       "</div>"
      ],
      "text/plain": [
       "  model1 model2 model3 baseline\n",
       "0     tn     fp     tn       tn\n",
       "1     tn     fp     fp       tn\n",
       "2     tn     fp     tn       tn"
      ]
     },
     "execution_count": 23,
     "metadata": {},
     "output_type": "execute_result"
    }
   ],
   "source": [
    "def evaluate_models(df, positive = 'Defect', negative = 'No Defect'):\n",
    "    '''pass all models through tp_or_not_tp'''\n",
    "    # get array of columns minus actual\n",
    "    models = df.drop(columns = 'actual').columns\n",
    "    # dummy df to return\n",
    "    return_df= pd.DataFrame()\n",
    "    # iterate models \n",
    "    for model in models:\n",
    "        # pass to other function\n",
    "        df2= tp_or_not_tp(df['actual'], df[model], positive, negative).reset_index(drop=True)\n",
    "        # label appropriately\n",
    "        df2.rename(columns={0: model}, inplace= True)\n",
    "        # concat model to return model\n",
    "        return_df= pd.concat([return_df,df2], axis=1)\n",
    "    return return_df\n",
    "#test function\n",
    "evaluate_models(defects).head(3)"
   ]
  },
  {
   "cell_type": "code",
   "execution_count": 24,
   "metadata": {},
   "outputs": [
    {
     "name": "stdout",
     "output_type": "stream",
     "text": [
      "model1 \n",
      "    Accuracy = 0.950\n",
      "    Precision = 0.800\n",
      "    Recall = 0.500\n",
      "    \n",
      "model2 \n",
      "    Accuracy = 0.560\n",
      "    Precision = 0.100\n",
      "    Recall = 0.562\n",
      "    \n",
      "model3 \n",
      "    Accuracy = 0.555\n",
      "    Precision = 0.131\n",
      "    Recall = 0.812\n",
      "    \n",
      "baseline \n",
      "    Accuracy = 0.920\n",
      "    Precision = nan\n",
      "    Recall = 0.000\n",
      "    \n"
     ]
    },
    {
     "name": "stderr",
     "output_type": "stream",
     "text": [
      "/var/folders/f5/w0p7b4_j2kdg3kvlsz7nhtn40000gn/T/ipykernel_49049/3912512478.py:4: RuntimeWarning: invalid value encountered in long_scalars\n",
      "  Precision = {tp/(tp+fp):.3f}\n"
     ]
    }
   ],
   "source": [
    "df = evaluate_models(defects)\n",
    "for column in df.columns:\n",
    "    tn = (df[column].values=='tn').sum()\n",
    "    tp = (df[column].values=='tp').sum()\n",
    "    fp = (df[column].values=='fp').sum()\n",
    "    fn = (df[column].values=='fn').sum()\n",
    "    print(column, model_performance(tp, tn, fp, fn))\n",
    "\n"
   ]
  },
  {
   "cell_type": "markdown",
   "metadata": {},
   "source": [
    "a. An internal team wants to investigate the cause of the manufacturing defects. They tell you that they want to identify as many of the ducks that have a defect as possible. Which evaluation metric would be appropriate here? Which model would be the best fit for this use case?\n"
   ]
  },
  {
   "cell_type": "code",
   "execution_count": 14,
   "metadata": {},
   "outputs": [],
   "source": [
    "# recall is the most appropriate, model 3 has the best recall"
   ]
  },
  {
   "cell_type": "markdown",
   "metadata": {},
   "source": [
    "b. Recently several stories in the local news have come out highlighting customers who received a rubber duck with a defect, and portraying C3 in a bad light. The PR team has decided to launch a program that gives customers with a defective duck a vacation to Hawaii. They need you to predict which ducks will have defects, but tell you the really don't want to accidentally give out a vacation package when the duck really doesn't have a defect. Which evaluation metric would be appropriate here? Which model would be the best fit for this use case?\n"
   ]
  },
  {
   "cell_type": "code",
   "execution_count": 15,
   "metadata": {},
   "outputs": [],
   "source": [
    "# precision is most appropriate, model 1"
   ]
  },
  {
   "cell_type": "markdown",
   "metadata": {},
   "source": [
    "*4.* You are working as a data scientist for Gives You Paws ™, a subscription based service that shows you cute pictures of dogs or cats (or both for an additional fee).\n",
    "\n",
    "At Gives You Paws, anyone can upload pictures of their cats or dogs. The photos are then put through a two step process. First an automated algorithm tags pictures as either a cat or a dog (Phase I). Next, the photos that have been initially identified are put through another round of review, possibly with some human oversight, before being presented to the users (Phase II).\n",
    "\n",
    "Several models have already been developed with the data, and you can find their results here.\n",
    "\n",
    "Given this dataset, use pandas to create a baseline model (i.e. a model that just predicts the most common class) and answer the following questions:\n",
    "\n"
   ]
  },
  {
   "cell_type": "code",
   "execution_count": 16,
   "metadata": {},
   "outputs": [
    {
     "data": {
      "text/html": [
       "<div>\n",
       "<style scoped>\n",
       "    .dataframe tbody tr th:only-of-type {\n",
       "        vertical-align: middle;\n",
       "    }\n",
       "\n",
       "    .dataframe tbody tr th {\n",
       "        vertical-align: top;\n",
       "    }\n",
       "\n",
       "    .dataframe thead th {\n",
       "        text-align: right;\n",
       "    }\n",
       "</style>\n",
       "<table border=\"1\" class=\"dataframe\">\n",
       "  <thead>\n",
       "    <tr style=\"text-align: right;\">\n",
       "      <th></th>\n",
       "      <th>actual</th>\n",
       "      <th>model1</th>\n",
       "      <th>model2</th>\n",
       "      <th>model3</th>\n",
       "      <th>model4</th>\n",
       "      <th>baseline</th>\n",
       "    </tr>\n",
       "  </thead>\n",
       "  <tbody>\n",
       "    <tr>\n",
       "      <th>0</th>\n",
       "      <td>cat</td>\n",
       "      <td>cat</td>\n",
       "      <td>dog</td>\n",
       "      <td>cat</td>\n",
       "      <td>dog</td>\n",
       "      <td>dog</td>\n",
       "    </tr>\n",
       "    <tr>\n",
       "      <th>1</th>\n",
       "      <td>dog</td>\n",
       "      <td>dog</td>\n",
       "      <td>cat</td>\n",
       "      <td>cat</td>\n",
       "      <td>dog</td>\n",
       "      <td>dog</td>\n",
       "    </tr>\n",
       "    <tr>\n",
       "      <th>2</th>\n",
       "      <td>dog</td>\n",
       "      <td>cat</td>\n",
       "      <td>cat</td>\n",
       "      <td>cat</td>\n",
       "      <td>dog</td>\n",
       "      <td>dog</td>\n",
       "    </tr>\n",
       "  </tbody>\n",
       "</table>\n",
       "</div>"
      ],
      "text/plain": [
       "  actual model1 model2 model3 model4 baseline\n",
       "0    cat    cat    dog    cat    dog      dog\n",
       "1    dog    dog    cat    cat    dog      dog\n",
       "2    dog    cat    cat    cat    dog      dog"
      ]
     },
     "execution_count": 16,
     "metadata": {},
     "output_type": "execute_result"
    }
   ],
   "source": [
    "paws = pd.read_csv('gives_you_paws.csv')\n",
    "paws['baseline']=paws.actual.mode().values[0]\n",
    "paws.head(3)"
   ]
  },
  {
   "cell_type": "markdown",
   "metadata": {},
   "source": [
    "a. In terms of accuracy, how do the various models compare to the baseline model? Are any of the models better than the baseline?\n"
   ]
  },
  {
   "cell_type": "code",
   "execution_count": 25,
   "metadata": {},
   "outputs": [
    {
     "name": "stdout",
     "output_type": "stream",
     "text": [
      "model1 \n",
      "    Accuracy = 0.807\n",
      "    Precision = 0.890\n",
      "    Recall = 0.803\n",
      "    \n",
      "2614 1423 323 640\n",
      "model2 \n",
      "    Accuracy = 0.630\n",
      "    Precision = 0.893\n",
      "    Recall = 0.491\n",
      "    \n",
      "1597 1555 191 1657\n",
      "model3 \n",
      "    Accuracy = 0.510\n",
      "    Precision = 0.660\n",
      "    Recall = 0.509\n",
      "    \n",
      "1655 893 853 1599\n",
      "model4 \n",
      "    Accuracy = 0.743\n",
      "    Precision = 0.731\n",
      "    Recall = 0.956\n",
      "    \n",
      "3110 603 1143 144\n",
      "baseline \n",
      "    Accuracy = 0.651\n",
      "    Precision = 0.651\n",
      "    Recall = 1.000\n",
      "    \n",
      "3254 0 1746 0\n"
     ]
    }
   ],
   "source": [
    "df = evaluate_models(paws, positive='dog', negative='cat')\n",
    "for column in df.columns:\n",
    "    tn = (df[column].values=='tn').sum()\n",
    "    tp = (df[column].values=='tp').sum()\n",
    "    fp = (df[column].values=='fp').sum()\n",
    "    fn = (df[column].values=='fn').sum()\n",
    "    print(column, model_performance(tp, tn, fp, fn))\n",
    "    print (tp, tn, fp, fn)"
   ]
  },
  {
   "cell_type": "code",
   "execution_count": 18,
   "metadata": {},
   "outputs": [],
   "source": [
    "#model 1 is most accurate"
   ]
  },
  {
   "cell_type": "markdown",
   "metadata": {},
   "source": [
    "b. Suppose you are working on a team that solely deals with dog pictures. Which of these models would you recomend for Phase I? For Phase II?\n"
   ]
  },
  {
   "cell_type": "code",
   "execution_count": 19,
   "metadata": {},
   "outputs": [],
   "source": [
    "# phase I look for highest recall: model 4 \n",
    "# phase II look for precision: model 2"
   ]
  },
  {
   "cell_type": "markdown",
   "metadata": {},
   "source": [
    "c. Suppose you are working on a team that solely deals with cat pictures. Which of these models would you recomend for Phase I? For Phase II?\n"
   ]
  },
  {
   "cell_type": "code",
   "execution_count": 26,
   "metadata": {},
   "outputs": [
    {
     "name": "stdout",
     "output_type": "stream",
     "text": [
      "model1 \n",
      "    Accuracy = 0.807\n",
      "    Precision = 0.690\n",
      "    Recall = 0.815\n",
      "    \n",
      "model2 \n",
      "    Accuracy = 0.630\n",
      "    Precision = 0.484\n",
      "    Recall = 0.891\n",
      "    \n",
      "model3 \n",
      "    Accuracy = 0.510\n",
      "    Precision = 0.358\n",
      "    Recall = 0.511\n",
      "    \n",
      "model4 \n",
      "    Accuracy = 0.743\n",
      "    Precision = 0.807\n",
      "    Recall = 0.345\n",
      "    \n",
      "baseline \n",
      "    Accuracy = 0.651\n",
      "    Precision = nan\n",
      "    Recall = 0.000\n",
      "    \n"
     ]
    },
    {
     "name": "stderr",
     "output_type": "stream",
     "text": [
      "/var/folders/f5/w0p7b4_j2kdg3kvlsz7nhtn40000gn/T/ipykernel_49049/3912512478.py:4: RuntimeWarning: invalid value encountered in long_scalars\n",
      "  Precision = {tp/(tp+fp):.3f}\n"
     ]
    }
   ],
   "source": [
    "df = evaluate_models(paws, positive='cat', negative='cat')\n",
    "for column in df.columns:\n",
    "    tn = (df[column].values=='tn').sum()\n",
    "    tp = (df[column].values=='tp').sum()\n",
    "    fp = (df[column].values=='fp').sum()\n",
    "    fn = (df[column].values=='fn').sum()\n",
    "    print(column, model_performance(tp, tn, fp, fn))"
   ]
  },
  {
   "cell_type": "code",
   "execution_count": null,
   "metadata": {},
   "outputs": [],
   "source": [
    "#phase 1 : model 2\n",
    "#phase 2 : model 4"
   ]
  },
  {
   "cell_type": "markdown",
   "metadata": {},
   "source": [
    "*5.* Follow the links below to read the documentation about each function, then apply those functions to the data from the previous problem.\n",
    "\n",
    "sklearn.metrics.accuracy_score\n",
    "sklearn.metrics.precision_score\n",
    "sklearn.metrics.recall_score\n",
    "sklearn.metrics.classification_report\n",
    "\n"
   ]
  }
 ],
 "metadata": {
  "interpreter": {
   "hash": "3067ead486e059ec00ffe7555bdb889e6e264a24dc711bf108106cc7baee8d5d"
  },
  "kernelspec": {
   "display_name": "Python 3.9.7 ('base')",
   "language": "python",
   "name": "python3"
  },
  "language_info": {
   "codemirror_mode": {
    "name": "ipython",
    "version": 3
   },
   "file_extension": ".py",
   "mimetype": "text/x-python",
   "name": "python",
   "nbconvert_exporter": "python",
   "pygments_lexer": "ipython3",
   "version": "3.9.7"
  },
  "orig_nbformat": 4
 },
 "nbformat": 4,
 "nbformat_minor": 2
}
