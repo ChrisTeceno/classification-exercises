{
 "cells": [
  {
   "cell_type": "code",
   "execution_count": 100,
   "metadata": {},
   "outputs": [],
   "source": [
    "import acquire\n",
    "import pandas as pd\n",
    "import seaborn as sns\n",
    "from matplotlib import style\n",
    "style.use('ggplot')"
   ]
  },
  {
   "cell_type": "markdown",
   "metadata": {},
   "source": [
    "**1. Attendance Data**\n"
   ]
  },
  {
   "cell_type": "code",
   "execution_count": 63,
   "metadata": {},
   "outputs": [
    {
     "name": "stdout",
     "output_type": "stream",
     "text": [
      "Reading from csv...\n"
     ]
    },
    {
     "data": {
      "text/html": [
       "<div>\n",
       "<style scoped>\n",
       "    .dataframe tbody tr th:only-of-type {\n",
       "        vertical-align: middle;\n",
       "    }\n",
       "\n",
       "    .dataframe tbody tr th {\n",
       "        vertical-align: top;\n",
       "    }\n",
       "\n",
       "    .dataframe thead th {\n",
       "        text-align: right;\n",
       "    }\n",
       "</style>\n",
       "<table border=\"1\" class=\"dataframe\">\n",
       "  <thead>\n",
       "    <tr style=\"text-align: right;\">\n",
       "      <th></th>\n",
       "      <th>day1</th>\n",
       "      <th>day2</th>\n",
       "      <th>day3</th>\n",
       "      <th>day4</th>\n",
       "      <th>day5</th>\n",
       "      <th>day6</th>\n",
       "      <th>day7</th>\n",
       "      <th>day8</th>\n",
       "      <th>grade</th>\n",
       "    </tr>\n",
       "    <tr>\n",
       "      <th>name</th>\n",
       "      <th></th>\n",
       "      <th></th>\n",
       "      <th></th>\n",
       "      <th></th>\n",
       "      <th></th>\n",
       "      <th></th>\n",
       "      <th></th>\n",
       "      <th></th>\n",
       "      <th></th>\n",
       "    </tr>\n",
       "  </thead>\n",
       "  <tbody>\n",
       "    <tr>\n",
       "      <th>Sally</th>\n",
       "      <td>1</td>\n",
       "      <td>0.9</td>\n",
       "      <td>0.9</td>\n",
       "      <td>0.5</td>\n",
       "      <td>1.0</td>\n",
       "      <td>0.0</td>\n",
       "      <td>0.9</td>\n",
       "      <td>0.9</td>\n",
       "      <td>0.7625</td>\n",
       "    </tr>\n",
       "    <tr>\n",
       "      <th>Jane</th>\n",
       "      <td>0</td>\n",
       "      <td>1.0</td>\n",
       "      <td>0.9</td>\n",
       "      <td>0.9</td>\n",
       "      <td>0.9</td>\n",
       "      <td>0.9</td>\n",
       "      <td>0.0</td>\n",
       "      <td>0.9</td>\n",
       "      <td>0.6875</td>\n",
       "    </tr>\n",
       "    <tr>\n",
       "      <th>Billy</th>\n",
       "      <td>0</td>\n",
       "      <td>0.9</td>\n",
       "      <td>0.0</td>\n",
       "      <td>0.0</td>\n",
       "      <td>0.5</td>\n",
       "      <td>0.9</td>\n",
       "      <td>1.0</td>\n",
       "      <td>0.9</td>\n",
       "      <td>0.5250</td>\n",
       "    </tr>\n",
       "    <tr>\n",
       "      <th>John</th>\n",
       "      <td>1</td>\n",
       "      <td>0.9</td>\n",
       "      <td>0.5</td>\n",
       "      <td>1.0</td>\n",
       "      <td>1.0</td>\n",
       "      <td>0.9</td>\n",
       "      <td>1.0</td>\n",
       "      <td>1.0</td>\n",
       "      <td>0.9125</td>\n",
       "    </tr>\n",
       "  </tbody>\n",
       "</table>\n",
       "</div>"
      ],
      "text/plain": [
       "       day1  day2  day3  day4  day5  day6  day7  day8   grade\n",
       "name                                                         \n",
       "Sally     1   0.9   0.9   0.5   1.0   0.0   0.9   0.9  0.7625\n",
       "Jane      0   1.0   0.9   0.9   0.9   0.9   0.0   0.9  0.6875\n",
       "Billy     0   0.9   0.0   0.0   0.5   0.9   1.0   0.9  0.5250\n",
       "John      1   0.9   0.5   1.0   1.0   0.9   1.0   1.0  0.9125"
      ]
     },
     "execution_count": 63,
     "metadata": {},
     "output_type": "execute_result"
    }
   ],
   "source": [
    "attendance = acquire.get_attendance_data()\n",
    "attendance.columns = ['name', 'day1','day2','day3','day4','day5','day6','day7', 'day8']\n",
    "attendance = attendance.replace(['A','P','T','H'],[0,1,0.9,0.5])\n",
    "attendance = attendance.set_index('name')\n",
    "attendance['grade'] = attendance.mean(axis=1)\n",
    "attendance\n"
   ]
  },
  {
   "cell_type": "markdown",
   "metadata": {},
   "source": [
    "\n",
    "Read the data from the attendance table and calculate an attendance percentage for each student. One half day is worth 50% of a full day, and 10 tardies is equal to one absence.\n",
    "\n",
    "You should end up with something like this:\n",
    "\n",
    "name\n",
    "\n",
    "Billy    0.5250\n",
    "\n",
    "Jane     0.6875\n",
    "\n",
    "John     0.9125\n",
    "\n",
    "Sally    0.7625\n",
    "\n",
    "Name: grade, dtype: float64\n"
   ]
  },
  {
   "cell_type": "code",
   "execution_count": 64,
   "metadata": {},
   "outputs": [
    {
     "data": {
      "text/plain": [
       "name\n",
       "Sally    0.7625\n",
       "Jane     0.6875\n",
       "Billy    0.5250\n",
       "John     0.9125\n",
       "Name: grade, dtype: float64"
      ]
     },
     "execution_count": 64,
     "metadata": {},
     "output_type": "execute_result"
    }
   ],
   "source": [
    "attendance['grade']"
   ]
  },
  {
   "cell_type": "markdown",
   "metadata": {},
   "source": [
    "**2. Coffee Levels**\n",
    "\n"
   ]
  },
  {
   "cell_type": "markdown",
   "metadata": {},
   "source": [
    "a. Read the coffee_levels table.\n"
   ]
  },
  {
   "cell_type": "code",
   "execution_count": 66,
   "metadata": {},
   "outputs": [
    {
     "name": "stdout",
     "output_type": "stream",
     "text": [
      "Reading from csv...\n"
     ]
    },
    {
     "data": {
      "text/html": [
       "<div>\n",
       "<style scoped>\n",
       "    .dataframe tbody tr th:only-of-type {\n",
       "        vertical-align: middle;\n",
       "    }\n",
       "\n",
       "    .dataframe tbody tr th {\n",
       "        vertical-align: top;\n",
       "    }\n",
       "\n",
       "    .dataframe thead th {\n",
       "        text-align: right;\n",
       "    }\n",
       "</style>\n",
       "<table border=\"1\" class=\"dataframe\">\n",
       "  <thead>\n",
       "    <tr style=\"text-align: right;\">\n",
       "      <th></th>\n",
       "      <th>hour</th>\n",
       "      <th>coffee_carafe</th>\n",
       "      <th>coffee_amount</th>\n",
       "    </tr>\n",
       "  </thead>\n",
       "  <tbody>\n",
       "    <tr>\n",
       "      <th>0</th>\n",
       "      <td>8</td>\n",
       "      <td>x</td>\n",
       "      <td>0.816164</td>\n",
       "    </tr>\n",
       "    <tr>\n",
       "      <th>1</th>\n",
       "      <td>9</td>\n",
       "      <td>x</td>\n",
       "      <td>0.451018</td>\n",
       "    </tr>\n",
       "    <tr>\n",
       "      <th>2</th>\n",
       "      <td>10</td>\n",
       "      <td>x</td>\n",
       "      <td>0.843279</td>\n",
       "    </tr>\n",
       "  </tbody>\n",
       "</table>\n",
       "</div>"
      ],
      "text/plain": [
       "   hour coffee_carafe  coffee_amount\n",
       "0     8             x       0.816164\n",
       "1     9             x       0.451018\n",
       "2    10             x       0.843279"
      ]
     },
     "execution_count": 66,
     "metadata": {},
     "output_type": "execute_result"
    }
   ],
   "source": [
    "coffee_levels=acquire.get_coffee_levels_data()\n",
    "coffee_levels.head(3)"
   ]
  },
  {
   "cell_type": "markdown",
   "metadata": {},
   "source": [
    "b. Transform the data so that each carafe is in it's own column.\n"
   ]
  },
  {
   "cell_type": "code",
   "execution_count": 74,
   "metadata": {},
   "outputs": [
    {
     "data": {
      "text/html": [
       "<div>\n",
       "<style scoped>\n",
       "    .dataframe tbody tr th:only-of-type {\n",
       "        vertical-align: middle;\n",
       "    }\n",
       "\n",
       "    .dataframe tbody tr th {\n",
       "        vertical-align: top;\n",
       "    }\n",
       "\n",
       "    .dataframe thead th {\n",
       "        text-align: right;\n",
       "    }\n",
       "</style>\n",
       "<table border=\"1\" class=\"dataframe\">\n",
       "  <thead>\n",
       "    <tr style=\"text-align: right;\">\n",
       "      <th></th>\n",
       "      <th>carrafe x</th>\n",
       "      <th>carrafe y</th>\n",
       "      <th>carrafe z</th>\n",
       "    </tr>\n",
       "    <tr>\n",
       "      <th>hour</th>\n",
       "      <th></th>\n",
       "      <th></th>\n",
       "      <th></th>\n",
       "    </tr>\n",
       "  </thead>\n",
       "  <tbody>\n",
       "    <tr>\n",
       "      <th>8</th>\n",
       "      <td>0.816164</td>\n",
       "      <td>0.189297</td>\n",
       "      <td>0.999264</td>\n",
       "    </tr>\n",
       "    <tr>\n",
       "      <th>9</th>\n",
       "      <td>0.451018</td>\n",
       "      <td>0.521502</td>\n",
       "      <td>0.915990</td>\n",
       "    </tr>\n",
       "    <tr>\n",
       "      <th>10</th>\n",
       "      <td>0.843279</td>\n",
       "      <td>0.023163</td>\n",
       "      <td>0.144928</td>\n",
       "    </tr>\n",
       "    <tr>\n",
       "      <th>11</th>\n",
       "      <td>0.335533</td>\n",
       "      <td>0.235529</td>\n",
       "      <td>0.311495</td>\n",
       "    </tr>\n",
       "    <tr>\n",
       "      <th>12</th>\n",
       "      <td>0.898291</td>\n",
       "      <td>0.017009</td>\n",
       "      <td>0.771947</td>\n",
       "    </tr>\n",
       "    <tr>\n",
       "      <th>13</th>\n",
       "      <td>0.310711</td>\n",
       "      <td>0.997464</td>\n",
       "      <td>0.398520</td>\n",
       "    </tr>\n",
       "    <tr>\n",
       "      <th>14</th>\n",
       "      <td>0.507288</td>\n",
       "      <td>0.058361</td>\n",
       "      <td>0.864464</td>\n",
       "    </tr>\n",
       "    <tr>\n",
       "      <th>15</th>\n",
       "      <td>0.215043</td>\n",
       "      <td>0.144644</td>\n",
       "      <td>0.436364</td>\n",
       "    </tr>\n",
       "    <tr>\n",
       "      <th>16</th>\n",
       "      <td>0.183891</td>\n",
       "      <td>0.544676</td>\n",
       "      <td>0.280621</td>\n",
       "    </tr>\n",
       "    <tr>\n",
       "      <th>17</th>\n",
       "      <td>0.391560</td>\n",
       "      <td>0.594126</td>\n",
       "      <td>0.436677</td>\n",
       "    </tr>\n",
       "  </tbody>\n",
       "</table>\n",
       "</div>"
      ],
      "text/plain": [
       "      carrafe x  carrafe y  carrafe z\n",
       "hour                                 \n",
       "8      0.816164   0.189297   0.999264\n",
       "9      0.451018   0.521502   0.915990\n",
       "10     0.843279   0.023163   0.144928\n",
       "11     0.335533   0.235529   0.311495\n",
       "12     0.898291   0.017009   0.771947\n",
       "13     0.310711   0.997464   0.398520\n",
       "14     0.507288   0.058361   0.864464\n",
       "15     0.215043   0.144644   0.436364\n",
       "16     0.183891   0.544676   0.280621\n",
       "17     0.391560   0.594126   0.436677"
      ]
     },
     "execution_count": 74,
     "metadata": {},
     "output_type": "execute_result"
    }
   ],
   "source": [
    "tidy_coffee = coffee_levels.set_index(['hour','coffee_carafe']).unstack(level=1)\n",
    "tidy_coffee.columns = tidy_coffee.columns.droplevel()\n",
    "tidy_coffee.columns.name = ''\n",
    "tidy_coffee.columns = ['carrafe x', 'carrafe y', 'carrafe z']\n",
    "tidy_coffee"
   ]
  },
  {
   "cell_type": "code",
   "execution_count": 92,
   "metadata": {},
   "outputs": [
    {
     "data": {
      "text/html": [
       "<div>\n",
       "<style scoped>\n",
       "    .dataframe tbody tr th:only-of-type {\n",
       "        vertical-align: middle;\n",
       "    }\n",
       "\n",
       "    .dataframe tbody tr th {\n",
       "        vertical-align: top;\n",
       "    }\n",
       "\n",
       "    .dataframe thead th {\n",
       "        text-align: right;\n",
       "    }\n",
       "</style>\n",
       "<table border=\"1\" class=\"dataframe\">\n",
       "  <thead>\n",
       "    <tr style=\"text-align: right;\">\n",
       "      <th>coffee_carafe</th>\n",
       "      <th>x</th>\n",
       "      <th>y</th>\n",
       "      <th>z</th>\n",
       "    </tr>\n",
       "    <tr>\n",
       "      <th>hour</th>\n",
       "      <th></th>\n",
       "      <th></th>\n",
       "      <th></th>\n",
       "    </tr>\n",
       "  </thead>\n",
       "  <tbody>\n",
       "    <tr>\n",
       "      <th>8</th>\n",
       "      <td>0.816164</td>\n",
       "      <td>0.189297</td>\n",
       "      <td>0.999264</td>\n",
       "    </tr>\n",
       "    <tr>\n",
       "      <th>9</th>\n",
       "      <td>0.451018</td>\n",
       "      <td>0.521502</td>\n",
       "      <td>0.915990</td>\n",
       "    </tr>\n",
       "    <tr>\n",
       "      <th>10</th>\n",
       "      <td>0.843279</td>\n",
       "      <td>0.023163</td>\n",
       "      <td>0.144928</td>\n",
       "    </tr>\n",
       "    <tr>\n",
       "      <th>11</th>\n",
       "      <td>0.335533</td>\n",
       "      <td>0.235529</td>\n",
       "      <td>0.311495</td>\n",
       "    </tr>\n",
       "    <tr>\n",
       "      <th>12</th>\n",
       "      <td>0.898291</td>\n",
       "      <td>0.017009</td>\n",
       "      <td>0.771947</td>\n",
       "    </tr>\n",
       "    <tr>\n",
       "      <th>13</th>\n",
       "      <td>0.310711</td>\n",
       "      <td>0.997464</td>\n",
       "      <td>0.398520</td>\n",
       "    </tr>\n",
       "    <tr>\n",
       "      <th>14</th>\n",
       "      <td>0.507288</td>\n",
       "      <td>0.058361</td>\n",
       "      <td>0.864464</td>\n",
       "    </tr>\n",
       "    <tr>\n",
       "      <th>15</th>\n",
       "      <td>0.215043</td>\n",
       "      <td>0.144644</td>\n",
       "      <td>0.436364</td>\n",
       "    </tr>\n",
       "    <tr>\n",
       "      <th>16</th>\n",
       "      <td>0.183891</td>\n",
       "      <td>0.544676</td>\n",
       "      <td>0.280621</td>\n",
       "    </tr>\n",
       "    <tr>\n",
       "      <th>17</th>\n",
       "      <td>0.391560</td>\n",
       "      <td>0.594126</td>\n",
       "      <td>0.436677</td>\n",
       "    </tr>\n",
       "  </tbody>\n",
       "</table>\n",
       "</div>"
      ],
      "text/plain": [
       "coffee_carafe         x         y         z\n",
       "hour                                       \n",
       "8              0.816164  0.189297  0.999264\n",
       "9              0.451018  0.521502  0.915990\n",
       "10             0.843279  0.023163  0.144928\n",
       "11             0.335533  0.235529  0.311495\n",
       "12             0.898291  0.017009  0.771947\n",
       "13             0.310711  0.997464  0.398520\n",
       "14             0.507288  0.058361  0.864464\n",
       "15             0.215043  0.144644  0.436364\n",
       "16             0.183891  0.544676  0.280621\n",
       "17             0.391560  0.594126  0.436677"
      ]
     },
     "execution_count": 92,
     "metadata": {},
     "output_type": "execute_result"
    }
   ],
   "source": [
    "tidy_coffee = coffee_levels.pivot_table(index = ['hour'], \n",
    "columns= 'coffee_carafe', \n",
    "values ='coffee_amount').reset_index()\n",
    "tidy_coffee = tidy_coffee.set_index('hour', drop = True)\n",
    "tidy_coffee"
   ]
  },
  {
   "cell_type": "markdown",
   "metadata": {},
   "source": [
    "c. Is this the best shape for the data?\n"
   ]
  },
  {
   "cell_type": "code",
   "execution_count": 234,
   "metadata": {},
   "outputs": [],
   "source": [
    "#depends on the problem"
   ]
  },
  {
   "cell_type": "code",
   "execution_count": 103,
   "metadata": {},
   "outputs": [
    {
     "data": {
      "text/plain": [
       "Text(0, 0.5, 'coffee level')"
      ]
     },
     "execution_count": 103,
     "metadata": {},
     "output_type": "execute_result"
    },
    {
     "data": {
      "image/png": "[encoded data removed]",
      "text/plain": [
       "<Figure size 432x288 with 1 Axes>"
      ]
     },
     "metadata": {},
     "output_type": "display_data"
    }
   ],
   "source": [
    "plot = sns.lineplot(data =tidy_coffee)\n",
    "plot.set_ylabel('coffee level')"
   ]
  },
  {
   "cell_type": "markdown",
   "metadata": {},
   "source": [
    "**3. Cake Recipes**\n",
    "\n"
   ]
  },
  {
   "cell_type": "markdown",
   "metadata": {},
   "source": [
    "a. Read the cake_recipes table. This data set contains cake tastiness scores for combinations of different recipes, oven rack positions, and oven temperatures.\n"
   ]
  },
  {
   "cell_type": "code",
   "execution_count": 199,
   "metadata": {},
   "outputs": [
    {
     "name": "stdout",
     "output_type": "stream",
     "text": [
      "Reading from csv...\n"
     ]
    },
    {
     "data": {
      "text/html": [
       "<div>\n",
       "<style scoped>\n",
       "    .dataframe tbody tr th:only-of-type {\n",
       "        vertical-align: middle;\n",
       "    }\n",
       "\n",
       "    .dataframe tbody tr th {\n",
       "        vertical-align: top;\n",
       "    }\n",
       "\n",
       "    .dataframe thead th {\n",
       "        text-align: right;\n",
       "    }\n",
       "</style>\n",
       "<table border=\"1\" class=\"dataframe\">\n",
       "  <thead>\n",
       "    <tr style=\"text-align: right;\">\n",
       "      <th></th>\n",
       "      <th>recipe:position</th>\n",
       "      <th>225</th>\n",
       "      <th>250</th>\n",
       "      <th>275</th>\n",
       "      <th>300</th>\n",
       "    </tr>\n",
       "  </thead>\n",
       "  <tbody>\n",
       "    <tr>\n",
       "      <th>0</th>\n",
       "      <td>a:bottom</td>\n",
       "      <td>61.738655</td>\n",
       "      <td>53.912627</td>\n",
       "      <td>74.414730</td>\n",
       "      <td>98.786784</td>\n",
       "    </tr>\n",
       "    <tr>\n",
       "      <th>1</th>\n",
       "      <td>a:top</td>\n",
       "      <td>51.709751</td>\n",
       "      <td>52.009735</td>\n",
       "      <td>68.576858</td>\n",
       "      <td>50.228470</td>\n",
       "    </tr>\n",
       "    <tr>\n",
       "      <th>2</th>\n",
       "      <td>b:bottom</td>\n",
       "      <td>57.095320</td>\n",
       "      <td>61.904369</td>\n",
       "      <td>61.196980</td>\n",
       "      <td>99.248541</td>\n",
       "    </tr>\n",
       "    <tr>\n",
       "      <th>3</th>\n",
       "      <td>b:top</td>\n",
       "      <td>82.455004</td>\n",
       "      <td>95.224151</td>\n",
       "      <td>98.594881</td>\n",
       "      <td>58.169349</td>\n",
       "    </tr>\n",
       "    <tr>\n",
       "      <th>4</th>\n",
       "      <td>c:bottom</td>\n",
       "      <td>96.470207</td>\n",
       "      <td>52.001358</td>\n",
       "      <td>92.893227</td>\n",
       "      <td>65.473084</td>\n",
       "    </tr>\n",
       "  </tbody>\n",
       "</table>\n",
       "</div>"
      ],
      "text/plain": [
       "  recipe:position        225        250        275        300\n",
       "0        a:bottom  61.738655  53.912627  74.414730  98.786784\n",
       "1           a:top  51.709751  52.009735  68.576858  50.228470\n",
       "2        b:bottom  57.095320  61.904369  61.196980  99.248541\n",
       "3           b:top  82.455004  95.224151  98.594881  58.169349\n",
       "4        c:bottom  96.470207  52.001358  92.893227  65.473084"
      ]
     },
     "execution_count": 199,
     "metadata": {},
     "output_type": "execute_result"
    }
   ],
   "source": [
    "cake_recipes = acquire.get_cake_recipes_data()\n",
    "cake_recipes.head()"
   ]
  },
  {
   "cell_type": "markdown",
   "metadata": {},
   "source": [
    "b. Tidy the data as necessary.\n"
   ]
  },
  {
   "cell_type": "code",
   "execution_count": 200,
   "metadata": {},
   "outputs": [
    {
     "data": {
      "text/html": [
       "<div>\n",
       "<style scoped>\n",
       "    .dataframe tbody tr th:only-of-type {\n",
       "        vertical-align: middle;\n",
       "    }\n",
       "\n",
       "    .dataframe tbody tr th {\n",
       "        vertical-align: top;\n",
       "    }\n",
       "\n",
       "    .dataframe thead th {\n",
       "        text-align: right;\n",
       "    }\n",
       "</style>\n",
       "<table border=\"1\" class=\"dataframe\">\n",
       "  <thead>\n",
       "    <tr style=\"text-align: right;\">\n",
       "      <th></th>\n",
       "      <th>225</th>\n",
       "      <th>250</th>\n",
       "      <th>275</th>\n",
       "      <th>300</th>\n",
       "      <th>recipe</th>\n",
       "      <th>position</th>\n",
       "    </tr>\n",
       "  </thead>\n",
       "  <tbody>\n",
       "    <tr>\n",
       "      <th>0</th>\n",
       "      <td>61.738655</td>\n",
       "      <td>53.912627</td>\n",
       "      <td>74.414730</td>\n",
       "      <td>98.786784</td>\n",
       "      <td>a</td>\n",
       "      <td>bottom</td>\n",
       "    </tr>\n",
       "    <tr>\n",
       "      <th>1</th>\n",
       "      <td>51.709751</td>\n",
       "      <td>52.009735</td>\n",
       "      <td>68.576858</td>\n",
       "      <td>50.228470</td>\n",
       "      <td>a</td>\n",
       "      <td>top</td>\n",
       "    </tr>\n",
       "    <tr>\n",
       "      <th>2</th>\n",
       "      <td>57.095320</td>\n",
       "      <td>61.904369</td>\n",
       "      <td>61.196980</td>\n",
       "      <td>99.248541</td>\n",
       "      <td>b</td>\n",
       "      <td>bottom</td>\n",
       "    </tr>\n",
       "    <tr>\n",
       "      <th>3</th>\n",
       "      <td>82.455004</td>\n",
       "      <td>95.224151</td>\n",
       "      <td>98.594881</td>\n",
       "      <td>58.169349</td>\n",
       "      <td>b</td>\n",
       "      <td>top</td>\n",
       "    </tr>\n",
       "    <tr>\n",
       "      <th>4</th>\n",
       "      <td>96.470207</td>\n",
       "      <td>52.001358</td>\n",
       "      <td>92.893227</td>\n",
       "      <td>65.473084</td>\n",
       "      <td>c</td>\n",
       "      <td>bottom</td>\n",
       "    </tr>\n",
       "  </tbody>\n",
       "</table>\n",
       "</div>"
      ],
      "text/plain": [
       "         225        250        275        300 recipe position\n",
       "0  61.738655  53.912627  74.414730  98.786784      a   bottom\n",
       "1  51.709751  52.009735  68.576858  50.228470      a      top\n",
       "2  57.095320  61.904369  61.196980  99.248541      b   bottom\n",
       "3  82.455004  95.224151  98.594881  58.169349      b      top\n",
       "4  96.470207  52.001358  92.893227  65.473084      c   bottom"
      ]
     },
     "execution_count": 200,
     "metadata": {},
     "output_type": "execute_result"
    }
   ],
   "source": [
    "tidy_cakes = cake_recipes\n",
    "tidy_cakes[['recipe', 'position']] = tidy_cakes['recipe:position'].str.split(':', expand = True)\n",
    "tidy_cakes.drop(columns= 'recipe:position', inplace= True)\n",
    "tidy_cakes.head()\n"
   ]
  },
  {
   "cell_type": "code",
   "execution_count": 202,
   "metadata": {},
   "outputs": [
    {
     "data": {
      "text/html": [
       "<div>\n",
       "<style scoped>\n",
       "    .dataframe tbody tr th:only-of-type {\n",
       "        vertical-align: middle;\n",
       "    }\n",
       "\n",
       "    .dataframe tbody tr th {\n",
       "        vertical-align: top;\n",
       "    }\n",
       "\n",
       "    .dataframe thead th {\n",
       "        text-align: right;\n",
       "    }\n",
       "</style>\n",
       "<table border=\"1\" class=\"dataframe\">\n",
       "  <thead>\n",
       "    <tr style=\"text-align: right;\">\n",
       "      <th></th>\n",
       "      <th>recipe</th>\n",
       "      <th>position</th>\n",
       "      <th>temp</th>\n",
       "      <th>tastiness</th>\n",
       "    </tr>\n",
       "  </thead>\n",
       "  <tbody>\n",
       "    <tr>\n",
       "      <th>0</th>\n",
       "      <td>a</td>\n",
       "      <td>bottom</td>\n",
       "      <td>225</td>\n",
       "      <td>61.738655</td>\n",
       "    </tr>\n",
       "    <tr>\n",
       "      <th>1</th>\n",
       "      <td>a</td>\n",
       "      <td>top</td>\n",
       "      <td>225</td>\n",
       "      <td>51.709751</td>\n",
       "    </tr>\n",
       "    <tr>\n",
       "      <th>2</th>\n",
       "      <td>b</td>\n",
       "      <td>bottom</td>\n",
       "      <td>225</td>\n",
       "      <td>57.095320</td>\n",
       "    </tr>\n",
       "    <tr>\n",
       "      <th>3</th>\n",
       "      <td>b</td>\n",
       "      <td>top</td>\n",
       "      <td>225</td>\n",
       "      <td>82.455004</td>\n",
       "    </tr>\n",
       "    <tr>\n",
       "      <th>4</th>\n",
       "      <td>c</td>\n",
       "      <td>bottom</td>\n",
       "      <td>225</td>\n",
       "      <td>96.470207</td>\n",
       "    </tr>\n",
       "  </tbody>\n",
       "</table>\n",
       "</div>"
      ],
      "text/plain": [
       "  recipe position temp  tastiness\n",
       "0      a   bottom  225  61.738655\n",
       "1      a      top  225  51.709751\n",
       "2      b   bottom  225  57.095320\n",
       "3      b      top  225  82.455004\n",
       "4      c   bottom  225  96.470207"
      ]
     },
     "execution_count": 202,
     "metadata": {},
     "output_type": "execute_result"
    }
   ],
   "source": [
    "tidy_cakes_melt = tidy_cakes.melt(id_vars= ['recipe', 'position'], var_name= 'temp', value_name= 'tastiness')\n",
    "tidy_cakes_melt.head()"
   ]
  },
  {
   "cell_type": "code",
   "execution_count": 233,
   "metadata": {},
   "outputs": [
    {
     "data": {
      "image/png": "[encoded data removed]",
      "text/plain": [
       "<Figure size 762.375x360 with 2 Axes>"
      ]
     },
     "metadata": {},
     "output_type": "display_data"
    }
   ],
   "source": [
    "plot = sns.relplot(x = 'temp', y = 'tastiness', data =tidy_cakes_melt, hue='recipe', col = 'position', kind = 'line')"
   ]
  },
  {
   "cell_type": "markdown",
   "metadata": {},
   "source": [
    "c. Which recipe, on average, is the best? recipe b\n"
   ]
  },
  {
   "cell_type": "code",
   "execution_count": 222,
   "metadata": {},
   "outputs": [
    {
     "data": {
      "text/plain": [
       "recipe\n",
       "a    63.922201\n",
       "b    76.736074\n",
       "c    75.874748\n",
       "d    62.864844\n",
       "Name: tastiness, dtype: float64"
      ]
     },
     "execution_count": 222,
     "metadata": {},
     "output_type": "execute_result"
    }
   ],
   "source": [
    "tidy_cakes_melt.groupby(['recipe']).tastiness.mean().head()"
   ]
  },
  {
   "cell_type": "code",
   "execution_count": 212,
   "metadata": {},
   "outputs": [
    {
     "name": "stdout",
     "output_type": "stream",
     "text": [
      "\n",
      "best recipe: b\n",
      "tastiness score: 76.74\n",
      "\n"
     ]
    }
   ],
   "source": [
    "print(f'''\n",
    "best recipe: {tidy_cakes_melt.groupby(['recipe']).tastiness.mean().idxmax()}\n",
    "tastiness score: {tidy_cakes_melt.groupby(['recipe']).tastiness.mean().max():.2f}\n",
    "'''\n",
    ")"
   ]
  },
  {
   "cell_type": "code",
   "execution_count": 191,
   "metadata": {},
   "outputs": [
    {
     "data": {
      "text/html": [
       "<div>\n",
       "<style scoped>\n",
       "    .dataframe tbody tr th:only-of-type {\n",
       "        vertical-align: middle;\n",
       "    }\n",
       "\n",
       "    .dataframe tbody tr th {\n",
       "        vertical-align: top;\n",
       "    }\n",
       "\n",
       "    .dataframe thead th {\n",
       "        text-align: right;\n",
       "    }\n",
       "</style>\n",
       "<table border=\"1\" class=\"dataframe\">\n",
       "  <thead>\n",
       "    <tr style=\"text-align: right;\">\n",
       "      <th></th>\n",
       "      <th>recipe</th>\n",
       "      <th>225</th>\n",
       "      <th>250</th>\n",
       "      <th>275</th>\n",
       "      <th>300</th>\n",
       "      <th>average</th>\n",
       "    </tr>\n",
       "  </thead>\n",
       "  <tbody>\n",
       "    <tr>\n",
       "      <th>0</th>\n",
       "      <td>a</td>\n",
       "      <td>56.724203</td>\n",
       "      <td>52.961181</td>\n",
       "      <td>71.495794</td>\n",
       "      <td>74.507627</td>\n",
       "      <td>63.922201</td>\n",
       "    </tr>\n",
       "    <tr>\n",
       "      <th>1</th>\n",
       "      <td>b</td>\n",
       "      <td>69.775162</td>\n",
       "      <td>78.564260</td>\n",
       "      <td>79.895930</td>\n",
       "      <td>78.708945</td>\n",
       "      <td>76.736074</td>\n",
       "    </tr>\n",
       "    <tr>\n",
       "      <th>2</th>\n",
       "      <td>c</td>\n",
       "      <td>83.888258</td>\n",
       "      <td>67.398417</td>\n",
       "      <td>92.495638</td>\n",
       "      <td>59.716678</td>\n",
       "      <td>75.874748</td>\n",
       "    </tr>\n",
       "    <tr>\n",
       "      <th>3</th>\n",
       "      <td>d</td>\n",
       "      <td>74.836465</td>\n",
       "      <td>67.385891</td>\n",
       "      <td>55.659653</td>\n",
       "      <td>53.577368</td>\n",
       "      <td>62.864844</td>\n",
       "    </tr>\n",
       "  </tbody>\n",
       "</table>\n",
       "</div>"
      ],
      "text/plain": [
       "  recipe        225        250        275        300    average\n",
       "0      a  56.724203  52.961181  71.495794  74.507627  63.922201\n",
       "1      b  69.775162  78.564260  79.895930  78.708945  76.736074\n",
       "2      c  83.888258  67.398417  92.495638  59.716678  75.874748\n",
       "3      d  74.836465  67.385891  55.659653  53.577368  62.864844"
      ]
     },
     "execution_count": 191,
     "metadata": {},
     "output_type": "execute_result"
    }
   ],
   "source": [
    "#alternative\n",
    "by_recipe = tidy_cakes.groupby('recipe').mean()\n",
    "by_recipe['average'] = by_recipe.mean(axis=1)\n",
    "by_recipe.reset_index(inplace=True)\n",
    "by_recipe\n"
   ]
  },
  {
   "cell_type": "code",
   "execution_count": 223,
   "metadata": {},
   "outputs": [
    {
     "name": "stdout",
     "output_type": "stream",
     "text": [
      "\n",
      "best recipe: b\n",
      "tastiness score: 76.74\n",
      "\n"
     ]
    }
   ],
   "source": [
    "print(f'''\n",
    "best recipe: {by_recipe.groupby(['recipe']).average.mean().idxmax()}\n",
    "tastiness score: {by_recipe.groupby(['recipe']).average.mean().max():.2f}\n",
    "'''\n",
    ")"
   ]
  },
  {
   "cell_type": "markdown",
   "metadata": {},
   "source": [
    "d. Which oven temperature, on average, produces the best results? 275\n"
   ]
  },
  {
   "cell_type": "code",
   "execution_count": 221,
   "metadata": {},
   "outputs": [
    {
     "data": {
      "text/plain": [
       "temp\n",
       "225    71.306022\n",
       "250    66.577437\n",
       "275    74.886754\n",
       "300    66.627655\n",
       "Name: tastiness, dtype: float64"
      ]
     },
     "execution_count": 221,
     "metadata": {},
     "output_type": "execute_result"
    }
   ],
   "source": [
    "tidy_cakes_melt.groupby(['temp']).tastiness.mean().head()"
   ]
  },
  {
   "cell_type": "code",
   "execution_count": 215,
   "metadata": {},
   "outputs": [
    {
     "name": "stdout",
     "output_type": "stream",
     "text": [
      "\n",
      "best temp: 275\n",
      "tastiness score: 74.89\n",
      "\n"
     ]
    }
   ],
   "source": [
    "print(f'''\n",
    "best temp: {tidy_cakes_melt.groupby(['temp']).tastiness.mean().idxmax()}\n",
    "tastiness score: {tidy_cakes_melt.groupby(['temp']).tastiness.mean().max():.2f}\n",
    "'''\n",
    ")"
   ]
  },
  {
   "cell_type": "markdown",
   "metadata": {},
   "source": [
    "e. Which combination of recipe, rack position, and temperature gives the best result? recipe b, bottom rack, 300 degrees\n"
   ]
  },
  {
   "cell_type": "code",
   "execution_count": 218,
   "metadata": {},
   "outputs": [
    {
     "data": {
      "text/plain": [
       "temp  recipe  position\n",
       "225   a       bottom      61.738655\n",
       "              top         51.709751\n",
       "      b       bottom      57.095320\n",
       "              top         82.455004\n",
       "      c       bottom      96.470207\n",
       "Name: tastiness, dtype: float64"
      ]
     },
     "execution_count": 218,
     "metadata": {},
     "output_type": "execute_result"
    }
   ],
   "source": [
    "tidy_cakes_melt.groupby(['temp', 'recipe', 'position']).tastiness.mean().head()"
   ]
  },
  {
   "cell_type": "code",
   "execution_count": 217,
   "metadata": {},
   "outputs": [
    {
     "name": "stdout",
     "output_type": "stream",
     "text": [
      "\n",
      "best combo: ('300', 'b', 'bottom')\n",
      "tastiness score: 99.25\n",
      "\n"
     ]
    }
   ],
   "source": [
    "print(f'''\n",
    "best combo: {tidy_cakes_melt.groupby(['temp', 'recipe', 'position']).tastiness.mean().idxmax()}\n",
    "tastiness score: {tidy_cakes_melt.groupby(['temp', 'recipe', 'position']).tastiness.mean().max():.2f}\n",
    "'''\n",
    ")"
   ]
  }
 ],
 "metadata": {
  "interpreter": {
   "hash": "3067ead486e059ec00ffe7555bdb889e6e264a24dc711bf108106cc7baee8d5d"
  },
  "kernelspec": {
   "display_name": "Python 3.9.7 ('base')",
   "language": "python",
   "name": "python3"
  },
  "language_info": {
   "codemirror_mode": {
    "name": "ipython",
    "version": 3
   },
   "file_extension": ".py",
   "mimetype": "text/x-python",
   "name": "python",
   "nbconvert_exporter": "python",
   "pygments_lexer": "ipython3",
   "version": "3.9.7"
  },
  "orig_nbformat": 4
 },
 "nbformat": 4,
 "nbformat_minor": 2
}
